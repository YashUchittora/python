{
 "cells": [
  {
   "cell_type": "markdown",
   "metadata": {},
   "source": [
    "problem:given a temperature in fahrenheit, convert it to celsius. if the temperature is below 10 degree celsius output cold, between 10 & 25 output pleasent, between 25 & 35 output warm, and above 35 output hot."
   ]
  },
  {
   "cell_type": "code",
   "execution_count": 8,
   "metadata": {},
   "outputs": [
    {
     "name": "stdout",
     "output_type": "stream",
     "text": [
      "temp. in celsius: 23.333333333333336\n",
      "weather is pleasent\n"
     ]
    }
   ],
   "source": [
    "t=float(input(\"enter the temp. in fahrenite: \"))               #input from user of temp. in farhrenite\n",
    "\n",
    "a=(t-32)*(5/9)                                                 #formula to change temp in faherenite to celsius\n",
    "print(\"temp. in celsius:\",a)\n",
    "\n",
    "if a<10:                                                       #if temp in celsius is less then 10 then weather is cold\n",
    "    print(\"weather is cold\")\n",
    "elif a>=10 and a<=25:                                          #if temp in celsius is between 10 & 25 then weather is pleasent\n",
    "    print(\"weather is pleasent\")                \n",
    "elif a>25 and a<35:                                            #if temp in celsius is between 25 & 35 then weather is warm\n",
    "    print(\"weather is warm\")\n",
    "else:\n",
    "    print(\"weather is hot\")                                     #if temp is more than 35 then weather is hot "
   ]
  }
 ],
 "metadata": {
  "kernelspec": {
   "display_name": "Python 3",
   "language": "python",
   "name": "python3"
  },
  "language_info": {
   "codemirror_mode": {
    "name": "ipython",
    "version": 3
   },
   "file_extension": ".py",
   "mimetype": "text/x-python",
   "name": "python",
   "nbconvert_exporter": "python",
   "pygments_lexer": "ipython3",
   "version": "3.11.4"
  },
  "orig_nbformat": 4
 },
 "nbformat": 4,
 "nbformat_minor": 2
}
