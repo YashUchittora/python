{
 "cells": [
  {
   "cell_type": "markdown",
   "metadata": {},
   "source": [
    "Given a sorted list of integers, search for a given integer using the binary search algorithm."
   ]
  },
  {
   "cell_type": "code",
   "execution_count": 7,
   "metadata": {},
   "outputs": [
    {
     "name": "stdout",
     "output_type": "stream",
     "text": [
      "element 10 is present at index 9\n"
     ]
    }
   ],
   "source": [
    "listnum=[1,2,3,4,5,6,7,8,9,10]                          #given list of integers with sorting\n",
    "num=10                                                  #given number to check\n",
    "a=0                                                     #initialisng a variable with value zero\n",
    "b=len(listnum)-1                                        #defining variable for searching from right\n",
    "final=False                                             #if target element is found\n",
    "while a<=b:                                             #using while loop to search targeted element\n",
    "    c=(a+b)//2                                          #calculating middle index\n",
    "    if listnum[c]==num:                                 #checking, is middle element and targated element is same or not\n",
    "        final=True                          \n",
    "        break\n",
    "    elif listnum[c]>num:                                #If the middle element is greater than the target, search in the left half\n",
    "        b=c-1\n",
    "    else:                                               # If the middle element is smaller than the target, search in the right half\n",
    "        a=c+1\n",
    "if final:                                               #if targated element is founded than printing its index\n",
    "    print(\"element\",num,\"is present at index\",c)\n",
    "else:\n",
    "    print(\"elememt\",num,\"is not present in the list\")\n"
   ]
  }
 ],
 "metadata": {
  "kernelspec": {
   "display_name": "Python 3",
   "language": "python",
   "name": "python3"
  },
  "language_info": {
   "codemirror_mode": {
    "name": "ipython",
    "version": 3
   },
   "file_extension": ".py",
   "mimetype": "text/x-python",
   "name": "python",
   "nbconvert_exporter": "python",
   "pygments_lexer": "ipython3",
   "version": "3.11.5"
  }
 },
 "nbformat": 4,
 "nbformat_minor": 2
}
