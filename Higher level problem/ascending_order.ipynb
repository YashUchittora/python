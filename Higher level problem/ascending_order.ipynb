{
 "cells": [
  {
   "cell_type": "markdown",
   "metadata": {},
   "source": [
    "Given a list of numbers, sort it in ascending order."
   ]
  },
  {
   "cell_type": "code",
   "execution_count": 15,
   "metadata": {},
   "outputs": [
    {
     "name": "stdout",
     "output_type": "stream",
     "text": [
      "[0, 1, 2, 3, 5, 7, 10, 15]\n"
     ]
    }
   ],
   "source": [
    "listnum=[2,5,7,3,10,1,0,15]          #given list of numbers\n",
    "list1=[]                             #initialising a empty list\n",
    "for i in range(len(listnum)):        #loop for iterating over list\n",
    "    m=listnum[0]                     #initialising a variable with value 1 element of list\n",
    "    for i in listnum:                #iterating over list\n",
    "        if i<m:                      #if this element is smallest then replace above variable\n",
    "            m=i\n",
    "    list1.append(m)                  #appending smallest value in new list\n",
    "    listnum.remove(m)                #after appending we will remove element \n",
    "print(list1)"
   ]
  }
 ],
 "metadata": {
  "kernelspec": {
   "display_name": "Python 3",
   "language": "python",
   "name": "python3"
  },
  "language_info": {
   "codemirror_mode": {
    "name": "ipython",
    "version": 3
   },
   "file_extension": ".py",
   "mimetype": "text/x-python",
   "name": "python",
   "nbconvert_exporter": "python",
   "pygments_lexer": "ipython3",
   "version": "3.11.5"
  }
 },
 "nbformat": 4,
 "nbformat_minor": 2
}
