{
 "cells": [
  {
   "cell_type": "code",
   "execution_count": 29,
   "metadata": {},
   "outputs": [
    {
     "name": "stdout",
     "output_type": "stream",
     "text": [
      "[1, 2, 2, 4, 6, 6, 6, 8, 44]\n",
      "6\n",
      "{1: 1, 2: 2, 4: 1, 6: 3, 8: 1, 44: 1}\n",
      "6\n"
     ]
    }
   ],
   "source": [
    "#for median\n",
    "list1=[2,4,1,44,6,6,6,8,2]                               #given list of numbers         \n",
    "list1.sort()                                             #for arrangeing list in ascending order\n",
    "print(list1)  \n",
    "if len(list1)%2!=0:                                      #if total numbers are odd\n",
    "    median=list1[len(list1)//2]                          #median is middle\n",
    "else:\n",
    "    median=(list1[len(list1)//2-1]+list1[len(list1)//2])/2  #if total numbers are even than average of both is median\n",
    "print(median)\n",
    "#for mode\n",
    "dict1={}                                   #initialising a empty dictionary\n",
    "for i in list1:                            #iterating in the list\n",
    "    a=0                                    #initialising a new variable with value zero\n",
    "    for x in range(len(list1)):            #using for loop to iterate all over the list one by one\n",
    "        if i==list1[x]:                    #checking how many numbers are same\n",
    "            a+=1                           #if same then counting how many are there\n",
    "    dict1[i]=a                             #storing the number and their frequency in the dictionary\n",
    "print(dict1)                               #printing our dictionry\n",
    "p=0                                        #initialising another variable to check which number have maximum frequency\n",
    "for key,value in dict1.items():            #iterating over dictionary\n",
    "    if value>p:                            #checking for maximum value which was the frequency\n",
    "        p=value                            #storing the max frequncy in our variable\n",
    "        mode1=key                          #key which have max frequency\n",
    "print(mode1)\n",
    "\n",
    "    \n",
    "\n",
    "\n",
    "\n",
    "\n"
   ]
  },
  {
   "cell_type": "code",
   "execution_count": null,
   "metadata": {},
   "outputs": [],
   "source": []
  }
 ],
 "metadata": {
  "kernelspec": {
   "display_name": "Python 3",
   "language": "python",
   "name": "python3"
  },
  "language_info": {
   "codemirror_mode": {
    "name": "ipython",
    "version": 3
   },
   "file_extension": ".py",
   "mimetype": "text/x-python",
   "name": "python",
   "nbconvert_exporter": "python",
   "pygments_lexer": "ipython3",
   "version": "3.11.5"
  }
 },
 "nbformat": 4,
 "nbformat_minor": 2
}
