{
 "cells": [
  {
   "cell_type": "markdown",
   "metadata": {},
   "source": [
    "problem: given two numbers a &b, find a/b"
   ]
  },
  {
   "cell_type": "code",
   "execution_count": 1,
   "metadata": {},
   "outputs": [
    {
     "name": "stdout",
     "output_type": "stream",
     "text": [
      "a/b= 2.0\n"
     ]
    }
   ],
   "source": [
    "a=int(input(\"enter the numerator: \"))                                         #input from user of numerator\n",
    "b=int(input(\"enter the denomnator: \"))                                        #input from user of denominator\n",
    "\n",
    "if b!=0:                                                                      #b is not equals to 0\n",
    "    print(\"a/b=\",a/b)\n",
    "else:                                                                         #when b=0 then divison not possible\n",
    "    print(\"not defined\")"
   ]
  }
 ],
 "metadata": {
  "kernelspec": {
   "display_name": "Python 3",
   "language": "python",
   "name": "python3"
  },
  "language_info": {
   "codemirror_mode": {
    "name": "ipython",
    "version": 3
   },
   "file_extension": ".py",
   "mimetype": "text/x-python",
   "name": "python",
   "nbconvert_exporter": "python",
   "pygments_lexer": "ipython3",
   "version": "3.11.4"
  },
  "orig_nbformat": 4
 },
 "nbformat": 4,
 "nbformat_minor": 2
}
