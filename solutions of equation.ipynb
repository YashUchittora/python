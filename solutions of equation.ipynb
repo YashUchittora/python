{
 "cells": [
  {
   "cell_type": "markdown",
   "metadata": {},
   "source": [
    "Given a quadratic equation with coefficients a, b and c, find the two solutions (may be real or complex). You should not take the square root of a negative number in your code."
   ]
  },
  {
   "cell_type": "code",
   "execution_count": 6,
   "metadata": {},
   "outputs": [
    {
     "name": "stdout",
     "output_type": "stream",
     "text": [
      "roots are complex\n",
      "roots are -1.25 +i 1.5612494995995996 and -1.25 -i 1.5612494995995996\n"
     ]
    }
   ],
   "source": [
    "#quadratic eq.= ax^2+bx+c\n",
    "#taking inputs from user for the coefficents of the quadratic equation i.e. a,b & c\n",
    "a=float(input(\"enter the coefficient of x^2:\"))\n",
    "b=float(input(\"enter the coefficient of x:\"))\n",
    "c=float(input(\"enter the constant\"))\n",
    "\n",
    "D=(b**2-4*a*c)                                     #descriminent\n",
    "x=D**0.5                                           #defining a variable for square root of descriminent\n",
    "\n",
    "\n",
    "\n",
    "if a==0:                                            #if a=0 the equation become linear i.e.\n",
    "    print(\"solutions is:\",-c/b)\n",
    "elif D>=0:                                          #if descriminent are greater than equal to 0 then equation have real solution\n",
    "    s1=(-b+x)/(2*a)                                 #formula for first solution\n",
    "    s2=(-b-x)/(2*a)                                 #formula for second solution\n",
    "    print(\"solutions are:\",s1,s2)                   \n",
    "else:                                               #if D is less than 0 than roots are complex\n",
    "    print(\"roots are complex\")\n",
    "    print(\"roots are\",-b/(2*a),\"+i\",(-D)**0.5/(2*a),\"and\",-b/(2*a),\"-i\",(-D)**0.5/(2*a))             #roots are in the form of a+ij"
   ]
  }
 ],
 "metadata": {
  "kernelspec": {
   "display_name": "Python 3",
   "language": "python",
   "name": "python3"
  },
  "language_info": {
   "codemirror_mode": {
    "name": "ipython",
    "version": 3
   },
   "file_extension": ".py",
   "mimetype": "text/x-python",
   "name": "python",
   "nbconvert_exporter": "python",
   "pygments_lexer": "ipython3",
   "version": "3.11.5"
  }
 },
 "nbformat": 4,
 "nbformat_minor": 2
}
