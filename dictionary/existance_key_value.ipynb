{
 "cells": [
  {
   "cell_type": "markdown",
   "metadata": {},
   "source": [
    "Check if a key exists in a dictionary:\n",
    "sample_dict = {‘a’: 100, ‘b’: 200, ‘c’: 300}\n",
    "key_needed = ‘d’\n",
    "Check if a value exists in a dictionary:\n",
    "sample_dict = {‘a’: 100, ‘b’: 200, ‘c’: 300}\n",
    "value_needed = 200"
   ]
  },
  {
   "cell_type": "code",
   "execution_count": null,
   "metadata": {},
   "outputs": [],
   "source": [
    "#for key\n",
    "sample_dict = {'a': 100, 'b': 200, 'c': 300} #given a dictionary\n",
    "key_needed = \"d\"                             #key to be check\n",
    "a=0                                          #initialisng a variable to be checked\n",
    "for key in sample_dict.keys():               #iterating over keys of sample_dict\n",
    "    if key==key_needed:                      #checking whtether key is present or not\n",
    "        a=a+1                                #if present then it increase by one\n",
    "if a==1:                                     #if a is increased that means it is present\n",
    "    print(key_needed,\"is present in sample_dict\")\n",
    "else:\n",
    "    print(key_needed,\"is not present in sample_dict\")"
   ]
  },
  {
   "cell_type": "code",
   "execution_count": null,
   "metadata": {},
   "outputs": [],
   "source": [
    "#for values\n",
    "sample_dict = {'a': 100, 'b': 200, 'c': 300}         #given a dictionary\n",
    "value_needed = 200                                   #value to be checked\n",
    "if value_needed in sample_dict.values():             #checking whether value present or not\n",
    "    print(value_needed,\"is present in sample_dict\")\n",
    "else:\n",
    "    print(value_needed,\"is not present in sample_dict\")\n",
    "#by this way we can also check key"
   ]
  }
 ],
 "metadata": {
  "language_info": {
   "name": "python"
  }
 },
 "nbformat": 4,
 "nbformat_minor": 2
}
