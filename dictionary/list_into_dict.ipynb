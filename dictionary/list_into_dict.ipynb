{
 "cells": [
  {
   "cell_type": "markdown",
   "metadata": {},
   "source": [
    "Convert these two lists into a dictionary. Take the keys from the first list, and values from the second one.\n",
    "keys = [‘Ten’, ‘Twenty’, ‘Thirty’]\n",
    "values = [10, 20, 30]"
   ]
  },
  {
   "cell_type": "code",
   "execution_count": null,
   "metadata": {},
   "outputs": [],
   "source": [
    "keys=['ten','twenty','thirty']        #given keys from user\n",
    "values=[10,20,30]                     #given keys from user\n",
    "dict1={}                              #creating a new dictionary\n",
    "for i in range(len(keys)):            #running for loop as many keys are there\n",
    "    dict1[keys[i]]=values[i]          #storing values in dictionary\n",
    "print(dict1)"
   ]
  }
 ],
 "metadata": {
  "language_info": {
   "name": "python"
  }
 },
 "nbformat": 4,
 "nbformat_minor": 2
}
