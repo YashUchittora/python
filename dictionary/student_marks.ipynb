{
 "cells": [
  {
   "cell_type": "markdown",
   "metadata": {},
   "source": [
    "Create a dictionary to store the total marks of 5 students in the class in 3 subjects (Course1, Course2, Course3). The keys must be the student names, and the values must be the list of marks. Create another list which has the course names in the same order as the marks are stored in the dictionary values. Now write a nested for loop to print the marks for each student exam wise.\n",
    "Student1\n",
    "Course1 marks : 82\n",
    "Course2 marks : 84\n",
    "Course3 marks : 72\n",
    "Student2\n",
    "Course1 marks : 87\n",
    "Course2 marks : 83\n",
    "Course3 marks : 78"
   ]
  },
  {
   "cell_type": "code",
   "execution_count": 1,
   "metadata": {},
   "outputs": [
    {
     "name": "stdout",
     "output_type": "stream",
     "text": [
      "Yash\n",
      "course1 = 82\n",
      "course2 = 84\n",
      "course3 = 72\n",
      "---------\n",
      "Mannu\n",
      "course1 = 87\n",
      "course2 = 83\n",
      "course3 = 78\n",
      "---------\n",
      "Suresh\n",
      "course1 = 45\n",
      "course2 = 89\n",
      "course3 = 63\n",
      "---------\n",
      "Harsh\n",
      "course1 = 79\n",
      "course2 = 47\n",
      "course3 = 93\n",
      "---------\n",
      "Saksham\n",
      "course1 = 83\n",
      "course2 = 91\n",
      "course3 = 99\n",
      "---------\n"
     ]
    }
   ],
   "source": [
    "dict_marks={                              #given dictionar of student marks\n",
    "    \"Yash\":[82,84,72],\n",
    "    \"Mannu\":[87,83,78],\n",
    "    \"Suresh\":[45,89,63],\n",
    "    \"Harsh\":[79,47,93],\n",
    "    \"Saksham\":[83,91,99]}                            \n",
    "courses=[\"course1\",\"course2\",\"course3\"]  #given list of courses\n",
    "for key,values in dict_marks.items():    #iterate over key and values of the dictionary\n",
    "    print(key)                           #printing name of students\n",
    "    for i in range(len(values)):         #storing marks with course name\n",
    "        print(courses[i],\"=\",values[i])\n",
    "    print(\"---------\")"
   ]
  }
 ],
 "metadata": {
  "kernelspec": {
   "display_name": "Python 3",
   "language": "python",
   "name": "python3"
  },
  "language_info": {
   "codemirror_mode": {
    "name": "ipython",
    "version": 3
   },
   "file_extension": ".py",
   "mimetype": "text/x-python",
   "name": "python",
   "nbconvert_exporter": "python",
   "pygments_lexer": "ipython3",
   "version": "3.11.5"
  }
 },
 "nbformat": 4,
 "nbformat_minor": 2
}
