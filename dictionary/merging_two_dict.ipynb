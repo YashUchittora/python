{
 "cells": [
  {
   "cell_type": "markdown",
   "metadata": {},
   "source": [
    "Merge these two dictionaries into one using for loop\n",
    "dict1 = {‘Ten’: 10, ‘Twenty’: 20, ‘Thirty’: 30}\n",
    "dict2 = {‘Thirty’: 30, ‘Fourty’: 40, ‘Fifty’: 50}"
   ]
  },
  {
   "cell_type": "code",
   "execution_count": null,
   "metadata": {},
   "outputs": [],
   "source": [
    "#given dictionaries by user\n",
    "dict1 = {'Ten': 10, 'Twenty': 20, 'Thirty': 30}     \n",
    "dict2 = {'Thirty': 30, 'Fourty': 40, 'Fifty': 50}\n",
    "dict3={}                                  #creating a empty dictionary\n",
    "for key,values in dict1.items():          #storing on by one key,values of dict1 in dict3\n",
    "    dict3[key]=values\n",
    "for key,values in dict2.items():          #storing on by one key,values of dict2 in dict3\n",
    "    dict3[key]=values\n",
    "print(dict3)"
   ]
  }
 ],
 "metadata": {
  "language_info": {
   "name": "python"
  }
 },
 "nbformat": 4,
 "nbformat_minor": 2
}
