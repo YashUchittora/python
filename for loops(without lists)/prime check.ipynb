{
 "cells": [
  {
   "cell_type": "markdown",
   "metadata": {},
   "source": [
    "Given a positive integer, find out if it’s prime or not."
   ]
  },
  {
   "cell_type": "code",
   "execution_count": 3,
   "metadata": {},
   "outputs": [
    {
     "name": "stdout",
     "output_type": "stream",
     "text": [
      "14 is not a prime\n"
     ]
    }
   ],
   "source": [
    "num=int(input(\"enter the digit:\"))      #taking input from user \n",
    "a=0                                     #initialising a variable with value zero\n",
    "for i in range(2,int(num**0.5+1)):      #checking for prime by dividing them from 2 to squreroot of that number \n",
    "    if num%i==0:                        #if divisible than remainder is zero\n",
    "        a+=1                            #if number is divisible in above range than initial variable's value increase by one\n",
    "if a==0:                                #as not divisible by any number thanit is prime\n",
    "    print(num,\"is a prime\")\n",
    "else:                                   #if divisible than value of 'a' must be more than zero\n",
    "    print(num,\"is not a prime\")         #than it is not prime\n",
    "    \n"
   ]
  }
 ],
 "metadata": {
  "kernelspec": {
   "display_name": "Python 3",
   "language": "python",
   "name": "python3"
  },
  "language_info": {
   "codemirror_mode": {
    "name": "ipython",
    "version": 3
   },
   "file_extension": ".py",
   "mimetype": "text/x-python",
   "name": "python",
   "nbconvert_exporter": "python",
   "pygments_lexer": "ipython3",
   "version": "3.11.5"
  }
 },
 "nbformat": 4,
 "nbformat_minor": 2
}
