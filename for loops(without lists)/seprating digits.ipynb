{
 "cells": [
  {
   "cell_type": "markdown",
   "metadata": {},
   "source": [
    "Given a positive integer, print each of its digits separately without converting the number into a string."
   ]
  },
  {
   "cell_type": "code",
   "execution_count": 5,
   "metadata": {},
   "outputs": [
    {
     "name": "stdout",
     "output_type": "stream",
     "text": [
      "8\n",
      "7\n"
     ]
    }
   ],
   "source": [
    "num=int(input(\"enter the digit:\"))             #taking input from user\n",
    "num2=str(num)                                  #converting input from user into a string\n",
    "digit=1                                        #initialising a variable with value 1\n",
    "for i in range(len(num2)):                     #how many digits are there in the number\n",
    "    digit=num%10                               #by dividing we will find one's place digit\n",
    "    num=num//10                                #by this we eliminate one's place digit\n",
    "    print(digit)                               #printing one by one digits from back\n",
    "    \n",
    "    \n"
   ]
  },
  {
   "cell_type": "code",
   "execution_count": 10,
   "metadata": {},
   "outputs": [
    {
     "name": "stdout",
     "output_type": "stream",
     "text": [
      "[4, 5]\n"
     ]
    }
   ],
   "source": [
    "num1=int(input(\"enter any multidigit integer\"))   #taking input from user \n",
    "lst1=[]                                           #initialising a list to store digits\n",
    "while num1!=0:                                    # using while loop, run till all digits of number will not cover\n",
    "    digit=num1%10                                 #by dividing we will find one's place digit\n",
    "    num1=num1//10                                 #by this we eliminate one's place digit\n",
    "    lst1.append(digit)                            #adding one by one digit in the list from backward\n",
    "    lst1.reverse()                                #reversing the list to get digits in the correct order\n",
    "print(lst1)                                       #printing the list"
   ]
  },
  {
   "cell_type": "code",
   "execution_count": 11,
   "metadata": {},
   "outputs": [
    {
     "name": "stdout",
     "output_type": "stream",
     "text": [
      "[4, 5]\n"
     ]
    }
   ],
   "source": [
    "num1=int(input(\"enter any multidigit integer\"))           #taking input from user                            \n",
    "lst1=[]                                                   #initialising a list to store digits\n",
    "for i in range(num1):                                     # using for loop, to run this operation for every digit one by one\n",
    "    if num1!=0:                                           #loop will run till all digits of number would'nt printed\n",
    "        digit=num1%10                                     #by dividing we will find one's place digit\n",
    "        num1=num1//10                                     #by this we eliminate one's place digit\n",
    "        lst1.append(digit)                                #adding one by one digit in the list from backward\n",
    "        lst1.reverse()                                    #reversing the list to get digits in the correct order\n",
    "print(lst1)                                               #printing the list"
   ]
  }
 ],
 "metadata": {
  "kernelspec": {
   "display_name": "Python 3",
   "language": "python",
   "name": "python3"
  },
  "language_info": {
   "codemirror_mode": {
    "name": "ipython",
    "version": 3
   },
   "file_extension": ".py",
   "mimetype": "text/x-python",
   "name": "python",
   "nbconvert_exporter": "python",
   "pygments_lexer": "ipython3",
   "version": "3.11.5"
  }
 },
 "nbformat": 4,
 "nbformat_minor": 2
}
