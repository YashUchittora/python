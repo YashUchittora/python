{
 "cells": [
  {
   "cell_type": "markdown",
   "metadata": {},
   "source": [
    "Given a list of numbers, create another list in reverse order."
   ]
  },
  {
   "cell_type": "code",
   "execution_count": 1,
   "metadata": {},
   "outputs": [
    {
     "name": "stdout",
     "output_type": "stream",
     "text": [
      "[3, 0, 1, 6, 97, 48, 5]\n",
      "[5, 48, 97, 6, 1, 0, 3]\n"
     ]
    }
   ],
   "source": [
    "list1=[5,48,97,6,1,0,3]     #given list of numbers\n",
    "list2=list1.copy()          #copying list1 in a new list\n",
    "list2.reverse()             #reversing list2\n",
    "print(list2)"
   ]
  },
  {
   "cell_type": "code",
   "execution_count": 16,
   "metadata": {},
   "outputs": [
    {
     "name": "stdout",
     "output_type": "stream",
     "text": [
      "[5, 48, 97, 6, 1, 0, 3]\n",
      "[3, 0, 1, 6, 97, 48, 5]\n"
     ]
    }
   ],
   "source": [
    "list1=[5,48,97,6,1,0,3]           #given list of numbers\n",
    "list2=list(reversed(list1))       #reversing list1 with a new name\n",
    "print(list1)\n",
    "print(list2)\n"
   ]
  },
  {
   "cell_type": "code",
   "execution_count": null,
   "metadata": {},
   "outputs": [],
   "source": []
  }
 ],
 "metadata": {
  "kernelspec": {
   "display_name": "Python 3",
   "language": "python",
   "name": "python3"
  },
  "language_info": {
   "codemirror_mode": {
    "name": "ipython",
    "version": 3
   },
   "file_extension": ".py",
   "mimetype": "text/x-python",
   "name": "python",
   "nbconvert_exporter": "python",
   "pygments_lexer": "ipython3",
   "version": "3.11.5"
  }
 },
 "nbformat": 4,
 "nbformat_minor": 2
}
