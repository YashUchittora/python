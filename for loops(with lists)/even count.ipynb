{
 "cells": [
  {
   "cell_type": "markdown",
   "metadata": {},
   "source": [
    "Given a list of numbers, find out how many even numbers it has."
   ]
  },
  {
   "cell_type": "code",
   "execution_count": 1,
   "metadata": {},
   "outputs": [
    {
     "name": "stdout",
     "output_type": "stream",
     "text": [
      "Total number of even number in listnum: 3\n"
     ]
    }
   ],
   "source": [
    "listnum=[1,23,2,54,85,94,37,9]                              #given list of integers\n",
    "freq=0                                                      #initialising a variable with value zero\n",
    "for x in listnum:                                           #iterating over listnum\n",
    "    if x%2==0:                                              #condition of even \n",
    "        freq+=1                                             #counting even numbers\n",
    "print(\"Total number of even number in listnum:\",freq)       #printing frequencies"
   ]
  }
 ],
 "metadata": {
  "kernelspec": {
   "display_name": "Python 3",
   "language": "python",
   "name": "python3"
  },
  "language_info": {
   "codemirror_mode": {
    "name": "ipython",
    "version": 3
   },
   "file_extension": ".py",
   "mimetype": "text/x-python",
   "name": "python",
   "nbconvert_exporter": "python",
   "pygments_lexer": "ipython3",
   "version": "3.11.5"
  }
 },
 "nbformat": 4,
 "nbformat_minor": 2
}
