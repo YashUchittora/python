{
 "cells": [
  {
   "cell_type": "markdown",
   "metadata": {},
   "source": [
    "Given a list of numbers, find out the mean and standard deviation."
   ]
  },
  {
   "cell_type": "code",
   "execution_count": 1,
   "metadata": {},
   "outputs": [
    {
     "name": "stdout",
     "output_type": "stream",
     "text": [
      "mean: 3.0\n",
      "standard deviation: 1.4142135623730951\n"
     ]
    }
   ],
   "source": [
    "listnum=[1,2,3,4,5]         #given list of numbers\n",
    "sumnum=0                    #initialising a variable with value zero for adding all the numbers\n",
    "f=0                         #initialising a variable with value zero for calculating total numbers\n",
    "for i in listnum:           #iterating over listnum\n",
    "    sumnum=sumnum+i         #adding one by one numbers\n",
    "    f+=1                    #calculating total numbers\n",
    "avg=sumnum/f                #calculating average\n",
    "print(\"mean:\",avg)          \n",
    "sum2=0                      #initialising another variable for standard\n",
    "for x in listnum:           #iterating over listnum\n",
    "    c=(avg-x)**2            #process of calculating standard deviation\n",
    "    sum2=sum2+c             #calculating value of numerator in standard deviation formula\n",
    "sd=(sum2/f)**0.5            #formula for standard deviation\n",
    "print(\"standard deviation:\",sd)\n",
    "\n",
    "\n"
   ]
  },
  {
   "cell_type": "code",
   "execution_count": null,
   "metadata": {},
   "outputs": [],
   "source": []
  }
 ],
 "metadata": {
  "kernelspec": {
   "display_name": "Python 3",
   "language": "python",
   "name": "python3"
  },
  "language_info": {
   "codemirror_mode": {
    "name": "ipython",
    "version": 3
   },
   "file_extension": ".py",
   "mimetype": "text/x-python",
   "name": "python",
   "nbconvert_exporter": "python",
   "pygments_lexer": "ipython3",
   "version": "3.11.5"
  }
 },
 "nbformat": 4,
 "nbformat_minor": 2
}
