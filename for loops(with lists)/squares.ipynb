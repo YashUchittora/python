{
 "cells": [
  {
   "cell_type": "markdown",
   "metadata": {},
   "source": [
    "Given a list of numbers, find the squares of all the numbers."
   ]
  },
  {
   "cell_type": "code",
   "execution_count": 1,
   "metadata": {},
   "outputs": [
    {
     "name": "stdout",
     "output_type": "stream",
     "text": [
      "square of 3 is 9\n",
      "square of 5 is 25\n",
      "square of 6 is 36\n",
      "square of 9 is 81\n",
      "square of 19 is 361\n",
      "square of 85 is 7225\n",
      "square of 65 is 4225\n",
      "square of 76 is 5776\n"
     ]
    }
   ],
   "source": [
    "listnum=[3,5,6,9,19,85,65,76]      #given list of numbers\n",
    "for i in listnum:                  #iterating over listnum\n",
    "    print(\"square of\",i,\"is\",i*i)  \n"
   ]
  },
  {
   "cell_type": "code",
   "execution_count": null,
   "metadata": {},
   "outputs": [],
   "source": []
  }
 ],
 "metadata": {
  "kernelspec": {
   "display_name": "Python 3",
   "language": "python",
   "name": "python3"
  },
  "language_info": {
   "codemirror_mode": {
    "name": "ipython",
    "version": 3
   },
   "file_extension": ".py",
   "mimetype": "text/x-python",
   "name": "python",
   "nbconvert_exporter": "python",
   "pygments_lexer": "ipython3",
   "version": "3.11.5"
  }
 },
 "nbformat": 4,
 "nbformat_minor": 2
}
