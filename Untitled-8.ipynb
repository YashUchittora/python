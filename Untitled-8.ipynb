{
 "cells": [
  {
   "cell_type": "markdown",
   "metadata": {},
   "source": [
    "Given two points in 2D space, find the slope and y intercept of the line joining them. consider all cases"
   ]
  },
  {
   "cell_type": "code",
   "execution_count": 1,
   "metadata": {},
   "outputs": [
    {
     "name": "stdout",
     "output_type": "stream",
     "text": [
      "1.0\n",
      "y intercept= 4.0\n"
     ]
    }
   ],
   "source": [
    "x1=float(input(\"the x coordinat of the first point\"))               #input from user for the x coordinate of first point\n",
    "y1=float(input(\"the y coordinat of the first point\"))               #input from user for the y coordinate of first point\n",
    "x2=float(input(\"the x coordinat of the second point\"))              #input from user for the x coordinate of second point\n",
    "y2=float(input(\"the y coordinat of the second point\"))              #input from user for the y coordinate of second point\n",
    "\n",
    "a=x2-x1                                                             # x intercept\n",
    "b=y2-y1                                                             # y intercept\n",
    "\n",
    "if a==0:\n",
    "    print(\"slope is infinite\")                                      #when x intercept is zero slope is infinite\n",
    "else:\n",
    "    print(b/a)                                                      #slope= (y intercept)/(x intercept)\n",
    "print(\"y intercept=\", b)                                            #y intercept= y2-y1 , i.e. b"
   ]
  }
 ],
 "metadata": {
  "kernelspec": {
   "display_name": "Python 3",
   "language": "python",
   "name": "python3"
  },
  "language_info": {
   "codemirror_mode": {
    "name": "ipython",
    "version": 3
   },
   "file_extension": ".py",
   "mimetype": "text/x-python",
   "name": "python",
   "nbconvert_exporter": "python",
   "pygments_lexer": "ipython3",
   "version": "3.11.4"
  },
  "orig_nbformat": 4
 },
 "nbformat": 4,
 "nbformat_minor": 2
}
