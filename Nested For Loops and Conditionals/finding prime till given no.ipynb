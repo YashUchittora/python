{
 "cells": [
  {
   "cell_type": "markdown",
   "metadata": {},
   "source": [
    "Given a positive integer, find out all prime numbers from 1 up to this number."
   ]
  },
  {
   "cell_type": "code",
   "execution_count": 1,
   "metadata": {},
   "outputs": [
    {
     "name": "stdout",
     "output_type": "stream",
     "text": [
      "prime numbers are\n",
      "1\n",
      "2\n",
      "3\n",
      "5\n",
      "7\n",
      "11\n",
      "13\n"
     ]
    }
   ],
   "source": [
    "x=int(input(\"enter the number:\"))                #taking input from user\n",
    "print(\"prime numbers are\")             \n",
    "for i in range(1,x+1):                     #iterating for loop in range number 1 to given number\n",
    "    a=0                                    #initialising a variable with value zero\n",
    "    for x in range(2,i):                   #for loop in range 2 to number by previous for loop\n",
    "        if i%x==0:                         #condition for prime\n",
    "            a+=1                           \n",
    "    if a==0:                               #if number not divided by any number than it is prime\n",
    "        print(i)\n",
    "\n",
    "\n"
   ]
  }
 ],
 "metadata": {
  "kernelspec": {
   "display_name": "Python 3",
   "language": "python",
   "name": "python3"
  },
  "language_info": {
   "codemirror_mode": {
    "name": "ipython",
    "version": 3
   },
   "file_extension": ".py",
   "mimetype": "text/x-python",
   "name": "python",
   "nbconvert_exporter": "python",
   "pygments_lexer": "ipython3",
   "version": "3.11.5"
  }
 },
 "nbformat": 4,
 "nbformat_minor": 2
}
