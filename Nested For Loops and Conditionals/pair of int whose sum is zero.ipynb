{
 "cells": [
  {
   "cell_type": "markdown",
   "metadata": {},
   "source": [
    "Given a list of integers, find all pairs of integers in the list whose sum is zero."
   ]
  },
  {
   "cell_type": "code",
   "execution_count": 14,
   "metadata": {},
   "outputs": [
    {
     "name": "stdout",
     "output_type": "stream",
     "text": [
      "1 -1\n",
      "2 -2\n",
      "3 -3\n"
     ]
    }
   ],
   "source": [
    "\n",
    "listnum=[1,2,3,4,6,5,-1,-2,-3]      #given list of integers\n",
    "l=[]                                #initialising a list to store unique values\n",
    "for i in listnum:                   #iterating over listnum\n",
    "    if i and (-1)*i not in l:       #checking values in l with opposite sign\n",
    "        l.append(i)                 #if not then we append this unique value\n",
    "for p in l:                         #iterating over new list with unique values\n",
    "    for x in range(len(listnum)):   #running for loop in the range on length(listnum)\n",
    "        if p+listnum[x]==0:         #checking sum is zero or not\n",
    "            print(p,listnum[x])\n",
    "            \n",
    "\n"
   ]
  }
 ],
 "metadata": {
  "kernelspec": {
   "display_name": "Python 3",
   "language": "python",
   "name": "python3"
  },
  "language_info": {
   "codemirror_mode": {
    "name": "ipython",
    "version": 3
   },
   "file_extension": ".py",
   "mimetype": "text/x-python",
   "name": "python",
   "nbconvert_exporter": "python",
   "pygments_lexer": "ipython3",
   "version": "3.11.5"
  }
 },
 "nbformat": 4,
 "nbformat_minor": 2
}
