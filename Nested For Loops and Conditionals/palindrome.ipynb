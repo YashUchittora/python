{
 "cells": [
  {
   "cell_type": "markdown",
   "metadata": {},
   "source": [
    "Given a string input, find out if it’s a palindrome.\n"
   ]
  },
  {
   "cell_type": "code",
   "execution_count": 16,
   "metadata": {},
   "outputs": [
    {
     "name": "stdout",
     "output_type": "stream",
     "text": [
      "sorewasiereisaweros\n",
      "palindrome\n"
     ]
    }
   ],
   "source": [
    "mystr=\"Sore was I ere I saw Eros\"           #given statement to check palindrome\n",
    "string=mystr.replace(\" \",\"\").lower()        #removing all the spaces and changing all characters in small\n",
    "print(string)\n",
    "l=len(string)                               #length of the string\n",
    "if string[:l//2]==string[-1:-(l//2)-1:-1]:  #checking string equallity from both side\n",
    "    print(\"palindrome\")\n",
    "else:                                   \n",
    "    print(\"not a palindrome\")\n"
   ]
  },
  {
   "cell_type": "code",
   "execution_count": null,
   "metadata": {},
   "outputs": [],
   "source": []
  }
 ],
 "metadata": {
  "kernelspec": {
   "display_name": "Python 3",
   "language": "python",
   "name": "python3"
  },
  "language_info": {
   "codemirror_mode": {
    "name": "ipython",
    "version": 3
   },
   "file_extension": ".py",
   "mimetype": "text/x-python",
   "name": "python",
   "nbconvert_exporter": "python",
   "pygments_lexer": "ipython3",
   "version": "3.11.5"
  }
 },
 "nbformat": 4,
 "nbformat_minor": 2
}
