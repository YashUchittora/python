{
 "cells": [
  {
   "cell_type": "markdown",
   "metadata": {},
   "source": [
    "Given two points (x1, y1) and (x2, y2), find the slope and intercept of the line joining these two points (the line may be perfectly horizontal or vertical)."
   ]
  },
  {
   "cell_type": "code",
   "execution_count": 1,
   "metadata": {},
   "outputs": [
    {
     "name": "stdout",
     "output_type": "stream",
     "text": [
      "-0.08108108108108109\n",
      "y intercept= 3.0\n"
     ]
    }
   ],
   "source": [
    "x1=float(input(\"the x coordinat of the first point\"))               #input from user for the x coordinate of first point\n",
    "y1=float(input(\"the y coordinat of the first point\"))               #input from user for the y coordinate of first point\n",
    "x2=float(input(\"the x coordinat of the second point\"))              #input from user for the x coordinate of second point\n",
    "y2=float(input(\"the y coordinat of the second point\"))              #input from user for the y coordinate of second point\n",
    "\n",
    "a=x2-x1                                                             # x intercept\n",
    "b=y2-y1                                                             # y intercept\n",
    "\n",
    "if a==0:\n",
    "    print(\"slope is infinite\")                                      #when x intercept is zero slope is infinite\n",
    "else:\n",
    "    print(b/a)                                                      #slope= (y intercept)/(x intercept)\n",
    "print(\"y intercept=\", b)                                            #y intercept= y2"
   ]
  }
 ],
 "metadata": {
  "kernelspec": {
   "display_name": "Python 3",
   "language": "python",
   "name": "python3"
  },
  "language_info": {
   "codemirror_mode": {
    "name": "ipython",
    "version": 3
   },
   "file_extension": ".py",
   "mimetype": "text/x-python",
   "name": "python",
   "nbconvert_exporter": "python",
   "pygments_lexer": "ipython3",
   "version": "3.11.5"
  }
 },
 "nbformat": 4,
 "nbformat_minor": 2
}
