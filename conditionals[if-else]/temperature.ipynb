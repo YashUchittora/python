{
 "cells": [
  {
   "cell_type": "markdown",
   "metadata": {},
   "source": [
    "Given a temperature in Celsius, convert it to Fahrenheit using the formula F = (C * 1.8) + 32. If the temperature is above 90°F, print “It’s hot outside!” otherwise, print “The temperature is pleasant”."
   ]
  },
  {
   "cell_type": "code",
   "execution_count": 3,
   "metadata": {},
   "outputs": [
    {
     "name": "stdout",
     "output_type": "stream",
     "text": [
      "temperature in farehnite is 98.60000000000001\n",
      "it's hot outside\n"
     ]
    }
   ],
   "source": [
    "temp=int(input(\"enter the temperature in celsius:\"))        #taking input from user in celsius\n",
    "f=(temp*1.8)+32                                             #formula to convert fahrenheit into celsius\n",
    "print(\"temperature in farehnite is\",f)                      #printing temperature in fahrenheit\n",
    "if f>90:                                       \n",
    "    print(\"it's hot outside\")                               #if temp is more than 90, then it is hot outside\n",
    "else:\n",
    "    print(\"the temperature is pleasent\")                    #if temp is less than 90, then it is hot outside"
   ]
  }
 ],
 "metadata": {
  "kernelspec": {
   "display_name": "Python 3",
   "language": "python",
   "name": "python3"
  },
  "language_info": {
   "codemirror_mode": {
    "name": "ipython",
    "version": 3
   },
   "file_extension": ".py",
   "mimetype": "text/x-python",
   "name": "python",
   "nbconvert_exporter": "python",
   "pygments_lexer": "ipython3",
   "version": "3.11.5"
  }
 },
 "nbformat": 4,
 "nbformat_minor": 2
}
