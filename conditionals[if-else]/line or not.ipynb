{
 "cells": [
  {
   "cell_type": "markdown",
   "metadata": {},
   "source": [
    "Given three points, find out whether they lie on the same straight line or not."
   ]
  },
  {
   "cell_type": "code",
   "execution_count": 1,
   "metadata": {},
   "outputs": [
    {
     "name": "stdout",
     "output_type": "stream",
     "text": [
      "points are not on the same line\n"
     ]
    }
   ],
   "source": [
    "#take the input of the all three points \n",
    "\n",
    "x1=float(input(\"the x coordinat of the first point\"))\n",
    "y1=float(input(\"the y coordinat of the first point\"))\n",
    "x2=float(input(\"the x coordinat of the second point\"))\n",
    "y2=float(input(\"the y coordinat of the second point\"))\n",
    "x3=float(input(\"the x coordinat of the third point\"))\n",
    "y3=float(input(\"the y coordinat of the third point\"))\n",
    "\n",
    "a=(0.5)*(x1*(y2-y3)+x2*(y3-y1)+x3*(y1-y2))             #Area of triangle\n",
    "\n",
    "if a==0:                                               #if area of triangle is zero than all three points lie on the same line\n",
    "    print(\"points are on the same line\")\n",
    "else:                                                  #if area of triangle is not zero than all three points not lie on the same line     \n",
    "    print(\"points are not on the same line\")"
   ]
  }
 ],
 "metadata": {
  "kernelspec": {
   "display_name": "Python 3",
   "language": "python",
   "name": "python3"
  },
  "language_info": {
   "codemirror_mode": {
    "name": "ipython",
    "version": 3
   },
   "file_extension": ".py",
   "mimetype": "text/x-python",
   "name": "python",
   "nbconvert_exporter": "python",
   "pygments_lexer": "ipython3",
   "version": "3.11.5"
  }
 },
 "nbformat": 4,
 "nbformat_minor": 2
}
