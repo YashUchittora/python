{
 "cells": [
  {
   "cell_type": "markdown",
   "metadata": {},
   "source": [
    "Given an integer, check if it is even or odd."
   ]
  },
  {
   "cell_type": "code",
   "execution_count": null,
   "metadata": {},
   "outputs": [],
   "source": [
    "num=int(input(\"enter the number:\"))    #input from user\n",
    "if num%2==0:                           #if no is divide by 2 then it is even\n",
    "    print(num,\"is even\")\n",
    "else:                                  #if no is not divisible by 2 then it is odd\n",
    "    print(num,\"is odd\")"
   ]
  }
 ],
 "metadata": {
  "language_info": {
   "name": "python"
  }
 },
 "nbformat": 4,
 "nbformat_minor": 2
}
