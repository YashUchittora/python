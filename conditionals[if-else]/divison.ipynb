{
 "cells": [
  {
   "cell_type": "markdown",
   "metadata": {},
   "source": [
    "Given two numbers, a and b, find the value of a/b (b may be zero)."
   ]
  },
  {
   "cell_type": "code",
   "execution_count": 2,
   "metadata": {},
   "outputs": [
    {
     "name": "stdout",
     "output_type": "stream",
     "text": [
      "divison is not defined\n"
     ]
    }
   ],
   "source": [
    "a=int(input(\"enter the numerator:\"))            #taking numerator from user as input\n",
    "b=int(input(\"enter the denominator:\"))          #taking denominator from user as input\n",
    "\n",
    "if b!=0:                                        #if denominator is not equals to zero than is possible\n",
    "    print(\"a/b=\",a/b)\n",
    "else:                                           #if denominator is not equals to zero than is not defined\n",
    "    print(\"divison is not defined\")"
   ]
  }
 ],
 "metadata": {
  "kernelspec": {
   "display_name": "Python 3",
   "language": "python",
   "name": "python3"
  },
  "language_info": {
   "codemirror_mode": {
    "name": "ipython",
    "version": 3
   },
   "file_extension": ".py",
   "mimetype": "text/x-python",
   "name": "python",
   "nbconvert_exporter": "python",
   "pygments_lexer": "ipython3",
   "version": "3.11.5"
  }
 },
 "nbformat": 4,
 "nbformat_minor": 2
}
