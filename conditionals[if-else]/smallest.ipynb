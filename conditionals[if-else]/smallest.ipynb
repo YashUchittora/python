{
 "cells": [
  {
   "cell_type": "markdown",
   "metadata": {},
   "source": [
    "Given three integers, find the smallest one."
   ]
  },
  {
   "cell_type": "code",
   "execution_count": 1,
   "metadata": {},
   "outputs": [
    {
     "name": "stdout",
     "output_type": "stream",
     "text": [
      "4 is the smallest\n"
     ]
    }
   ],
   "source": [
    "#taking three integers as input from user, to check which one is the smallest\n",
    "num1=int(input(\"enter the first integer:\"))\n",
    "num2=int(input(\"enter the second integer:\"))\n",
    "num3=int(input(\"enter the third integer:\"))\n",
    "if num1<num2 and num1<num3:             #if num1 is small from both the others then it is smallest\n",
    "    print(num1,\"is the smallest\")\n",
    "elif num2<num3:                         #if condition1 isn't true and num2 is smaller than num3 than it is smallest\n",
    "    print(num2,\"is the smallest\")\n",
    "else:                                   #otherwise num3 is the smallest\n",
    "    print(num3,\"is the smallest\")"
   ]
  }
 ],
 "metadata": {
  "kernelspec": {
   "display_name": "Python 3",
   "language": "python",
   "name": "python3"
  },
  "language_info": {
   "codemirror_mode": {
    "name": "ipython",
    "version": 3
   },
   "file_extension": ".py",
   "mimetype": "text/x-python",
   "name": "python",
   "nbconvert_exporter": "python",
   "pygments_lexer": "ipython3",
   "version": "3.11.5"
  }
 },
 "nbformat": 4,
 "nbformat_minor": 2
}
