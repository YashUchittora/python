{
 "cells": [
  {
   "cell_type": "markdown",
   "metadata": {},
   "source": [
    "Given a year, check if it is a leap year or not. A leap year is divisible by 4, except for years that are divisible by 100. However, years that are divisible by 400 are also leap years."
   ]
  },
  {
   "cell_type": "code",
   "execution_count": 8,
   "metadata": {},
   "outputs": [
    {
     "name": "stdout",
     "output_type": "stream",
     "text": [
      "400 is not a leap year\n"
     ]
    }
   ],
   "source": [
    "year=int(input(\"enter the year\"))             #taking input as a year from user\n",
    "\n",
    "if year%100==0:                               #year that is divisible by 100 is not a leap year\n",
    "    print(year,\"is not a leap year\")\n",
    "elif year%4==0:                               #year that is divisible by 4 is a leap year\n",
    "    print(year,\"is a leap year\")\n",
    "else:                                         #others than above conditions all years are not leap years\n",
    "    print(year,\"is not a leap year\")\n"
   ]
  }
 ],
 "metadata": {
  "kernelspec": {
   "display_name": "Python 3",
   "language": "python",
   "name": "python3"
  },
  "language_info": {
   "codemirror_mode": {
    "name": "ipython",
    "version": 3
   },
   "file_extension": ".py",
   "mimetype": "text/x-python",
   "name": "python",
   "nbconvert_exporter": "python",
   "pygments_lexer": "ipython3",
   "version": "3.11.5"
  }
 },
 "nbformat": 4,
 "nbformat_minor": 2
}
