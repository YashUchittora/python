{
 "cells": [
  {
   "cell_type": "markdown",
   "metadata": {},
   "source": [
    "Given two integers, find the larger one."
   ]
  },
  {
   "cell_type": "code",
   "execution_count": 2,
   "metadata": {},
   "outputs": [
    {
     "name": "stdout",
     "output_type": "stream",
     "text": [
      "9 is greater than 7\n"
     ]
    }
   ],
   "source": [
    "num1=int(input(\"enter the first number:\"))           #taking 1st number from user\n",
    "num2=int(input(\"enter the second number:\"))          #taking 2nd number from user\n",
    "\n",
    "if num1>num2:                                        #condition for 1st number is larger\n",
    "    print(num1,\"is greater than\",num2)\n",
    "elif num2>num1:                                      #condition for 2nd number is larger\n",
    "    print(num2,\"is greater than\",num1)\n",
    "else:                                                #condition when both are equal\n",
    "    print(\"both are equal\")\n",
    "\n",
    "\n"
   ]
  }
 ],
 "metadata": {
  "kernelspec": {
   "display_name": "Python 3",
   "language": "python",
   "name": "python3"
  },
  "language_info": {
   "codemirror_mode": {
    "name": "ipython",
    "version": 3
   },
   "file_extension": ".py",
   "mimetype": "text/x-python",
   "name": "python",
   "nbconvert_exporter": "python",
   "pygments_lexer": "ipython3",
   "version": "3.11.5"
  }
 },
 "nbformat": 4,
 "nbformat_minor": 2
}
