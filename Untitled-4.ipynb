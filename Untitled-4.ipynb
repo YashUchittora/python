{
 "cells": [
  {
   "cell_type": "markdown",
   "metadata": {},
   "source": [
    "problem:Given a quadratic equation with coefficients a, b and c, find the two solutions (may be real or complex). You should not take the square root of a negative number in your code.\n",
    "\n"
   ]
  },
  {
   "cell_type": "code",
   "execution_count": 14,
   "metadata": {},
   "outputs": [
    {
     "name": "stdout",
     "output_type": "stream",
     "text": [
      "roots are not real\n"
     ]
    }
   ],
   "source": [
    "\n",
    "#quadratic eq.= ax^2+bx+c\n",
    "#taking inputs from user for the coefficents of the quadratic equation i.e. a,b & c\n",
    "a=float(input(\"enter the coefficient of x^2:\"))\n",
    "b=float(input(\"enter the coefficient of x:\"))\n",
    "c=float(input(\"enter the constant\"))\n",
    "\n",
    "D=(b**2-4*a*c)                                     #descriminent\n",
    "x=D**0.5                                           #defining a variable for square root of descriminent\n",
    "\n",
    "\n",
    "\n",
    "if a==0:                                            #if a=0 the equation become linear i.e.\n",
    "    print(\"solutions is:\",-c/b)\n",
    "elif D>=0:                                          #if descriminent are greater than equal to 0 then equation have real solution\n",
    "    s1=(-b+x)/(2*a)                                 #formula for first solution\n",
    "    s2=(-b-x)/(2*a)                                 #formula for second solution\n",
    "    print(\"solutions are:\",s1,s2)                   \n",
    "else:                                               #if D is less than 0 than roots are complex\n",
    "    print(\"roots are not real\")"
   ]
  }
 ],
 "metadata": {
  "kernelspec": {
   "display_name": "Python 3",
   "language": "python",
   "name": "python3"
  },
  "language_info": {
   "codemirror_mode": {
    "name": "ipython",
    "version": 3
   },
   "file_extension": ".py",
   "mimetype": "text/x-python",
   "name": "python",
   "nbconvert_exporter": "python",
   "pygments_lexer": "ipython3",
   "version": "3.11.4"
  },
  "orig_nbformat": 4
 },
 "nbformat": 4,
 "nbformat_minor": 2
}
